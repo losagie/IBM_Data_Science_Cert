{
 "cells": [
  {
   "cell_type": "code",
   "id": "initial_id",
   "metadata": {
    "collapsed": true,
    "ExecuteTime": {
     "end_time": "2025-04-18T14:49:13.266123Z",
     "start_time": "2025-04-18T14:46:23.994718Z"
    }
   },
   "source": [
    "import pandas as pd\n",
    "import requests\n",
    "from sklearn.model_selection import train_test_split, GridSearchCV\n",
    "from sklearn.preprocessing import PolynomialFeatures\n",
    "from sklearn.linear_model import Ridge\n",
    "from sklearn.metrics import mean_squared_error, r2_score\n",
    "from sklearn.pipeline import Pipeline\n",
    "import numpy as np\n",
    "\n",
    "# Fetch data from URL\n",
    "url = \"https://cf-courses-data.s3.us.cloud-object-storage.appdomain.cloud/IBMSkillsNetwork-AI0271EN-SkillsNetwork/labs/v1/m3/data/used_car_price_analysis.csv\"\n",
    "# response = requests.get(url)\n",
    "#\n",
    "# if response.status_code != 200:\n",
    "#     print(\"Failed to retrieve data. Status code:\", response.status_code)\n",
    "# else:\n",
    "#     # Read CSV into DataFrame\n",
    "df = pd.read_csv(url)\n",
    "\n",
    "# Data Preparation\n",
    "df = df.dropna(axis=0, how='any', inplace=False)\n",
    "x = df[['year', 'mileage', 'tax', 'mpg', 'engineSize']]\n",
    "y = df['price']\n",
    "\n",
    "# Split the dataset (80% training, 20% testing)\n",
    "X_train, X_test, y_train, y_test = train_test_split(x, y, test_size=0.2, random_state=42)\n",
    "\n",
    "# Polynomial Features (degree 2)\n",
    "poly = PolynomialFeatures(degree=2, include_bias=False)\n",
    "X_train_poly = poly.fit_transform(X_train)\n",
    "X_test_poly = poly.transform(X_test)\n",
    "\n",
    "# Define Ridge Regression Model with Grid Search over alpha values\n",
    "param_grid = {'ridge__alpha': np.logspace(-4, 4, 100)}\n",
    "\n",
    "ridge = Ridge(alpha=0.5)\n",
    "\n",
    "# Pipeline to orchestrate polynomial transformation and regression\n",
    "ridge_pipeline = Pipeline([\n",
    "        ('poly', poly),\n",
    "           ('ridge', ridge)\n",
    "    ])\n",
    "\n",
    "ridge_cv = GridSearchCV(\n",
    "ridge_pipeline, param_grid=param_grid, cv=4, scoring='neg_mean_squared_error', verbose=1, n_jobs=-1\n",
    "    )\n",
    "\n",
    "\n",
    "\n",
    "# Fit on the training data\n",
    "ridge_cv.fit(X_train_poly, y_train)\n",
    "\n",
    "# Predict on the test set\n",
    "y_pred = ridge_cv.predict(X_test_poly)\n",
    "\n",
    "# Evaluation Metrics\n",
    "mse = mean_squared_error(y_test, y_pred)\n",
    "r2 = r2_score(y_test, y_pred)\n",
    "\n",
    "print(f\"R^2 Score: {r2}\")\n",
    "\n",
    "print(f\"Mean Squared Error (MSE): {mse}\")\n",
    "\n",
    "# Best Parameters\n",
    "print(f\"Best Alpha: {ridge_cv.best_params_['ridge__alpha']}\")"
   ],
   "outputs": [
    {
     "name": "stdout",
     "output_type": "stream",
     "text": [
      "Fitting 4 folds for each of 100 candidates, totalling 400 fits\n",
      "R^2 Score: -4.557210025968131\n",
      "Mean Squared Error (MSE): 125977939.51151864\n",
      "Best Alpha: 10000.0\n"
     ]
    }
   ],
   "execution_count": 1
  }
 ],
 "metadata": {
  "kernelspec": {
   "display_name": "Python 3",
   "language": "python",
   "name": "python3"
  },
  "language_info": {
   "codemirror_mode": {
    "name": "ipython",
    "version": 2
   },
   "file_extension": ".py",
   "mimetype": "text/x-python",
   "name": "python",
   "nbconvert_exporter": "python",
   "pygments_lexer": "ipython2",
   "version": "2.7.6"
  }
 },
 "nbformat": 4,
 "nbformat_minor": 5
}
