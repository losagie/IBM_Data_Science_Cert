{
 "cells": [
  {
   "cell_type": "markdown",
   "metadata": {},
   "source": [
    "<p style=\"text-align:center\">\n",
    "    <a href=\"https://skills.network\" target=\"_blank\">\n",
    "    <img src=\"https://cf-courses-data.s3.us.cloud-object-storage.appdomain.cloud/assets/logos/SN_web_lightmode.png\" width=\"200\" alt=\"Skills Network Logo\"  />\n",
    "    </a>\n",
    "</p>\n"
   ]
  },
  {
   "cell_type": "markdown",
   "metadata": {},
   "source": [
    "# **Use natural language to create charts and graphs**\n"
   ]
  },
  {
   "cell_type": "markdown",
   "metadata": {},
   "source": [
    "Estimated time needed: **30** minutes\n"
   ]
  },
  {
   "cell_type": "markdown",
   "metadata": {},
   "source": [
    "## Overview\n"
   ]
  },
  {
   "cell_type": "markdown",
   "metadata": {},
   "source": [
    "Imagine you are a data analyst or a data scientist of a marketing team at an e-commerce company. The company needs to understand customer purchasing behaviors over the last year to tailor their upcoming holiday campaigns. Traditionally, this would involve complex SQL queries, data wrangling in Python, and perhaps building visual dashboards to interpret the results including analyzing spreadsheets, creating charts, and maybe even some statistical analysis—tasks that require considerable time and expertise.\n",
    "\n",
    "With the integration of Langchain and LLMs, you can simply ask, \"Show me a visualization of monthly sales trends by product category,\" or \"Generate a heatmap of customer activity by region.\" The system would use the `create_pandas_dataframe_agent` to process the CSV data, and then dynamically generate visualizations such as line graphs, bar charts, or heatmaps in response to these queries. This not only speeds up the data analysis process but also allows team members who may not be tech-savvy to engage directly with the data and make informed decisions quickly. This approach fosters a more collaborative environment and ensures that strategic decisions are backed by real-time data insights, visually represented for easy comprehension.\n",
    "\n",
    "<img src=\"https://cf-courses-data.s3.us.cloud-object-storage.appdomain.cloud/V_7__WU_jHJ1lOpTeSLxTQ/chat%20with%20data.png\" width=\"50%\" alt=\"indexing\"/>\n"
   ]
  },
  {
   "cell_type": "markdown",
   "metadata": {},
   "source": [
    "In this lab, you will learn how to seamlessly integrate data visualization into your conversational data analysis using Langchain and LLMs. Starting with CSV file data, you will use the `create_pandas_dataframe_agent` to build an interactive agent that not only understands and responds to your queries but also translates data responses into visual formats. You will explore how to dynamically generate charts, graphs, and heatmaps directly in response to natural language questions. This capability will enable you to visualize trends, compare figures, and spot patterns immediately, making your data analysis workflow both efficient and visually engaging. By the end of this project, you will have the skills to create a data conversational agent that acts as both analyst and visualizer, bringing data to life through dialogue.\n",
    "\n",
    "In this lab we are going to use Llama 3.3 LLM hosted on the IBM watsonx.ai platform.\n"
   ]
  },
  {
   "cell_type": "markdown",
   "metadata": {},
   "source": [
    "---------\n"
   ]
  },
  {
   "cell_type": "markdown",
   "metadata": {},
   "source": [
    "## __Table of contents__\n",
    "\n",
    "<ol>\n",
    "    <li><a href=\"#Overview\">Overview</a></li>\n",
    "    <li><a href=\"#Objectives\">Objectives</a></li>\n",
    "    <li>\n",
    "        <a href=\"#Setup\">Setup</a>\n",
    "        <ol>\n",
    "            <li><a href=\"#Installing-required-libraries\">Installing required libraries</a></li>\n",
    "            <li><a href=\"#Importing-required-libraries\">Importing required libraries</a></li>\n",
    "        </ol>\n",
    "    </li>\n",
    "    <li>\n",
    "        <a href=\"#Data-set\">Data set</a>\n",
    "        <ol>\n",
    "            <li><a href=\"#Load-the-data-set\">Load the data set</a></li>\n",
    "        </ol>\n",
    "    </li>\n",
    "    <li>\n",
    "        <a href=\"#Load-LLM\">Load LLM</a>\n",
    "        <ol>\n",
    "            <li><a href=\"#Talk-to-your-data\">Talk to your data</a></li>\n",
    "            <li><a href=\"#Plot-your-data-with-natural-language\">Plot your data with natural language</a></li>\n",
    "        </ol>\n",
    "    </li>\n",
    "</ol>\n",
    "\n",
    "<a href=\"#Exercises\">Exercises</a>\n",
    "<ol>\n",
    "    <li><a href=\"#Exercise-1---Relationship-between-parental-education-level-and-student-grades\">Exercise 1. Relationship between parental education level and student grades</a></li>\n",
    "    <li><a href=\"#Exercise-2---Impact-of-internet-access-at-home-on-grades\">Exercise 2. Impact of internet access at home on grades</a></li>\n",
    "    <li><a href=\"#Exercise-3---Explore-LLM's-code\">Exercise 3. Explore LLM's code</a></li>\n",
    "</ol>\n"
   ]
  },
  {
   "cell_type": "markdown",
   "metadata": {},
   "source": [
    "## Objectives\n",
    "\n",
    "\n",
    "After completing the project, you should be able to:\n",
    "\n",
    "- **Use Langchain with large language models**: Understand and apply the Langchain framework in conjunction with LLMs to interact with and analyze data stored in CSV files through natural language processing.\n",
    "- **Create conversational data agents**: Build a conversational agent that can understand and respond to natural language queries about data, enabling users to ask questions directly and receive immediate answers.\n",
    "- **Implement data visualization through dialogue**: Integrate data visualization tools within your conversational agent, allowing you to request and generate visual data representations such as graphs, charts, and heatmaps dynamically based on your queries.\n",
    "- **Enhance decision-making process**: Develop the capability to derive actionable insights from data via interactive dialogues and visual outputs, thereby improving the decision-making process and making data analysis accessible to non-technical stakeholders.\n"
   ]
  },
  {
   "cell_type": "markdown",
   "metadata": {},
   "source": [
    "----\n"
   ]
  },
  {
   "cell_type": "markdown",
   "metadata": {},
   "source": [
    "## Setup\n"
   ]
  },
  {
   "cell_type": "markdown",
   "metadata": {},
   "source": [
    "This project is based on Jupyter Notebook. If you're not familiar with it, here's a quick guide on how to run code within it:\n",
    "\n",
    "A Jupyter Notebook consists of cells. To execute a code cell, click on the cell that you want to run and click the 'Run' button, as shown in the picture.\n"
   ]
  },
  {
   "cell_type": "markdown",
   "metadata": {},
   "source": [
    "<img src=\"https://cf-courses-data.s3.us.cloud-object-storage.appdomain.cloud/IwbhiH3Wwv-VK-J4rioTAw/run.png\" width=\"50%\" alt=\"indexing\"/>\n"
   ]
  },
  {
   "cell_type": "markdown",
   "metadata": {},
   "source": [
    "For this lab, we will be using the following libraries:\n",
    "\n",
    "*   [`ibm-watson-ai`](https://ibm.github.io/watson-machine-learning-sdk/index.html) for using LLMs from IBM's watsonx.ai.\n",
    "*   [`LangChain`, `langchain-ibm`, `langchain-experimental`](https://www.langchain.com/) for using its agent function to interact with data.\n",
    "*   [`matplotlib`](https://matplotlib.org/?utm_medium=Exinfluencer&utm_source=Exinfluencer&utm_content=000026UJ&utm_term=10006555&utm_id=NA-SkillsNetwork-Channel-SkillsNetworkCoursesIBMML0187ENSkillsNetwork31430127-2021-01-01) for additional plotting tools.\n",
    "*   [`seaborn`](https://seaborn.pydata.org/?utm_medium=Exinfluencer&utm_source=Exinfluencer&utm_content=000026UJ&utm_term=10006555&utm_id=NA-SkillsNetwork-Channel-SkillsNetworkCoursesIBMML0187ENSkillsNetwork31430127-2021-01-01) for visualizing the data.\n"
   ]
  },
  {
   "cell_type": "markdown",
   "metadata": {},
   "source": [
    "### Installing required libraries\n",
    "\n",
    "The following required libraries are __not__ preinstalled in the Skills Network Labs environment. __You must run the following cell__ to install them:\n",
    "\n",
    "**Note:** We are pinning the version here to specify the version. It's recommended that you do this as well. Even if the library is updated in the future, the installed library could still support this lab work.\n",
    "\n",
    "This might take approximately 1-2 minutes. \n",
    "\n",
    "As we use `%%capture` to capture the installation, you won't see the output process. But after the installation completes, you will see a number beside the cell.\n"
   ]
  },
  {
   "cell_type": "code",
   "metadata": {
    "ExecuteTime": {
     "end_time": "2025-04-15T15:16:32.915098Z",
     "start_time": "2025-04-15T15:13:59.370028Z"
    }
   },
   "source": [
    "# %%capture\n",
    "!pip install ibm-watsonx-ai\n",
    "!pip install --user langchain\n",
    "!pip install --user langchain-ibm\n",
    "!pip install --user langchain-experimental\n",
    "!pip install matplotlib\n",
    "!pip install seaborn\n",
    "!pip install langchain\n"
   ],
   "outputs": [
    {
     "name": "stdout",
     "output_type": "stream",
     "text": [
      "Collecting ibm-watsonx-ai\n",
      "  Using cached ibm_watsonx_ai-1.1.16-py3-none-any.whl.metadata (6.6 kB)\n",
      "Requirement already satisfied: requests in c:\\users\\m-rech design pc\\appdata\\local\\programs\\python\\python313\\lib\\site-packages (from ibm-watsonx-ai) (2.32.3)\n",
      "Requirement already satisfied: httpx in c:\\users\\m-rech design pc\\appdata\\roaming\\python\\python313\\site-packages (from ibm-watsonx-ai) (0.28.1)\n",
      "Requirement already satisfied: urllib3 in c:\\users\\m-rech design pc\\appdata\\local\\programs\\python\\python313\\lib\\site-packages (from ibm-watsonx-ai) (2.3.0)\n",
      "Collecting pandas<2.2.0,>=0.24.2 (from ibm-watsonx-ai)\n",
      "  Using cached pandas-2.1.4.tar.gz (4.3 MB)\n",
      "  Installing build dependencies: started\n",
      "  Installing build dependencies: still running...\n",
      "  Installing build dependencies: finished with status 'error'\n"
     ]
    },
    {
     "name": "stderr",
     "output_type": "stream",
     "text": [
      "  error: subprocess-exited-with-error\n",
      "  \n",
      "  pip subprocess to install build dependencies did not run successfully.\n",
      "  exit code: 1\n",
      "  \n",
      "  [57 lines of output]\n",
      "  Ignoring oldest-supported-numpy: markers 'python_version < \"3.12\"' don't match your environment\n",
      "  Collecting meson-python==0.13.1\n",
      "    Using cached meson_python-0.13.1-py3-none-any.whl.metadata (4.1 kB)\n",
      "  Collecting meson==1.2.1\n",
      "    Using cached meson-1.2.1-py3-none-any.whl.metadata (1.7 kB)\n",
      "  Collecting wheel\n",
      "    Using cached wheel-0.45.1-py3-none-any.whl.metadata (2.3 kB)\n",
      "  Collecting Cython<3,>=0.29.33\n",
      "    Using cached Cython-0.29.37-py2.py3-none-any.whl.metadata (3.1 kB)\n",
      "  Collecting numpy<2,>=1.26.0\n",
      "    Using cached numpy-1.26.4.tar.gz (15.8 MB)\n",
      "    Installing build dependencies: started\n",
      "    Installing build dependencies: finished with status 'done'\n",
      "    Getting requirements to build wheel: started\n",
      "    Getting requirements to build wheel: finished with status 'done'\n",
      "    Installing backend dependencies: started\n",
      "    Installing backend dependencies: finished with status 'done'\n",
      "    Preparing metadata (pyproject.toml): started\n",
      "    Preparing metadata (pyproject.toml): finished with status 'error'\n",
      "    error: subprocess-exited-with-error\n",
      "  \n",
      "    Preparing metadata (pyproject.toml) did not run successfully.\n",
      "    exit code: 1\n",
      "  \n",
      "    [21 lines of output]\n",
      "    + C:\\Users\\M-RECH DESIGN PC\\AppData\\Local\\Programs\\Python\\Python313\\python.exe C:\\Users\\M-RECH DESIGN PC\\AppData\\Local\\Temp\\pip-install-het5t45m\\numpy_37f0b8e1c80b4b46aecbd6e937e1a627\\vendored-meson\\meson\\meson.py setup C:\\Users\\M-RECH DESIGN PC\\AppData\\Local\\Temp\\pip-install-het5t45m\\numpy_37f0b8e1c80b4b46aecbd6e937e1a627 C:\\Users\\M-RECH DESIGN PC\\AppData\\Local\\Temp\\pip-install-het5t45m\\numpy_37f0b8e1c80b4b46aecbd6e937e1a627\\.mesonpy-u9x7_vpc -Dbuildtype=release -Db_ndebug=if-release -Db_vscrt=md --native-file=C:\\Users\\M-RECH DESIGN PC\\AppData\\Local\\Temp\\pip-install-het5t45m\\numpy_37f0b8e1c80b4b46aecbd6e937e1a627\\.mesonpy-u9x7_vpc\\meson-python-native-file.ini\n",
      "    The Meson build system\n",
      "    Version: 1.2.99\n",
      "    Source dir: C:\\Users\\M-RECH DESIGN PC\\AppData\\Local\\Temp\\pip-install-het5t45m\\numpy_37f0b8e1c80b4b46aecbd6e937e1a627\n",
      "    Build dir: C:\\Users\\M-RECH DESIGN PC\\AppData\\Local\\Temp\\pip-install-het5t45m\\numpy_37f0b8e1c80b4b46aecbd6e937e1a627\\.mesonpy-u9x7_vpc\n",
      "    Build type: native build\n",
      "    Project name: NumPy\n",
      "    Project version: 1.26.4\n",
      "    WARNING: Failed to activate VS environment: Could not parse vswhere.exe output\n",
      "  \n",
      "    ..\\meson.build:1:0: ERROR: Unknown compiler(s): [['icl'], ['cl'], ['cc'], ['gcc'], ['clang'], ['clang-cl'], ['pgcc']]\n",
      "    The following exception(s) were encountered:\n",
      "    Running `icl \"\"` gave \"[WinError 2] The system cannot find the file specified\"\n",
      "    Running `cl /?` gave \"[WinError 2] The system cannot find the file specified\"\n",
      "    Running `cc --version` gave \"[WinError 2] The system cannot find the file specified\"\n",
      "    Running `gcc --version` gave \"[WinError 2] The system cannot find the file specified\"\n",
      "    Running `clang --version` gave \"[WinError 2] The system cannot find the file specified\"\n",
      "    Running `clang-cl /?` gave \"[WinError 2] The system cannot find the file specified\"\n",
      "    Running `pgcc --version` gave \"[WinError 2] The system cannot find the file specified\"\n",
      "  \n",
      "    A full log can be found at C:\\Users\\M-RECH DESIGN PC\\AppData\\Local\\Temp\\pip-install-het5t45m\\numpy_37f0b8e1c80b4b46aecbd6e937e1a627\\.mesonpy-u9x7_vpc\\meson-logs\\meson-log.txt\n",
      "    [end of output]\n",
      "  \n",
      "    note: This error originates from a subprocess, and is likely not a problem with pip.\n",
      "  error: metadata-generation-failed\n",
      "  \n",
      "  Encountered error while generating package metadata.\n",
      "  \n",
      "  See above for output.\n",
      "  \n",
      "  note: This is an issue with the package mentioned above, not pip.\n",
      "  hint: See above for details.\n",
      "  [end of output]\n",
      "  \n",
      "  note: This error originates from a subprocess, and is likely not a problem with pip.\n",
      "error: subprocess-exited-with-error\n",
      "\n",
      "pip subprocess to install build dependencies did not run successfully.\n",
      "exit code: 1\n",
      "\n",
      "See above for output.\n",
      "\n",
      "note: This error originates from a subprocess, and is likely not a problem with pip.\n"
     ]
    },
    {
     "name": "stdout",
     "output_type": "stream",
     "text": [
      "Requirement already satisfied: langchain in c:\\users\\m-rech design pc\\appdata\\roaming\\python\\python313\\site-packages (0.3.23)\n",
      "Requirement already satisfied: langchain-core<1.0.0,>=0.3.51 in c:\\users\\m-rech design pc\\appdata\\roaming\\python\\python313\\site-packages (from langchain) (0.3.51)\n",
      "Requirement already satisfied: langchain-text-splitters<1.0.0,>=0.3.8 in c:\\users\\m-rech design pc\\appdata\\roaming\\python\\python313\\site-packages (from langchain) (0.3.8)\n",
      "Requirement already satisfied: langsmith<0.4,>=0.1.17 in c:\\users\\m-rech design pc\\appdata\\roaming\\python\\python313\\site-packages (from langchain) (0.3.31)\n",
      "Requirement already satisfied: pydantic<3.0.0,>=2.7.4 in c:\\users\\m-rech design pc\\appdata\\roaming\\python\\python313\\site-packages (from langchain) (2.11.3)\n",
      "Requirement already satisfied: SQLAlchemy<3,>=1.4 in c:\\users\\m-rech design pc\\appdata\\roaming\\python\\python313\\site-packages (from langchain) (2.0.40)\n",
      "Requirement already satisfied: requests<3,>=2 in c:\\users\\m-rech design pc\\appdata\\local\\programs\\python\\python313\\lib\\site-packages (from langchain) (2.32.3)\n",
      "Requirement already satisfied: PyYAML>=5.3 in c:\\users\\m-rech design pc\\appdata\\roaming\\python\\python313\\site-packages (from langchain) (6.0.2)\n",
      "Requirement already satisfied: tenacity!=8.4.0,<10.0.0,>=8.1.0 in c:\\users\\m-rech design pc\\appdata\\roaming\\python\\python313\\site-packages (from langchain-core<1.0.0,>=0.3.51->langchain) (9.1.2)\n",
      "Requirement already satisfied: jsonpatch<2.0,>=1.33 in c:\\users\\m-rech design pc\\appdata\\roaming\\python\\python313\\site-packages (from langchain-core<1.0.0,>=0.3.51->langchain) (1.33)\n",
      "Requirement already satisfied: packaging<25,>=23.2 in c:\\users\\m-rech design pc\\appdata\\local\\programs\\python\\python313\\lib\\site-packages (from langchain-core<1.0.0,>=0.3.51->langchain) (24.2)\n",
      "Requirement already satisfied: typing-extensions>=4.7 in c:\\users\\m-rech design pc\\appdata\\local\\programs\\python\\python313\\lib\\site-packages (from langchain-core<1.0.0,>=0.3.51->langchain) (4.13.0)\n",
      "Requirement already satisfied: httpx<1,>=0.23.0 in c:\\users\\m-rech design pc\\appdata\\roaming\\python\\python313\\site-packages (from langsmith<0.4,>=0.1.17->langchain) (0.28.1)\n",
      "Requirement already satisfied: orjson<4.0.0,>=3.9.14 in c:\\users\\m-rech design pc\\appdata\\roaming\\python\\python313\\site-packages (from langsmith<0.4,>=0.1.17->langchain) (3.10.16)\n",
      "Requirement already satisfied: requests-toolbelt<2.0.0,>=1.0.0 in c:\\users\\m-rech design pc\\appdata\\roaming\\python\\python313\\site-packages (from langsmith<0.4,>=0.1.17->langchain) (1.0.0)\n",
      "Requirement already satisfied: zstandard<0.24.0,>=0.23.0 in c:\\users\\m-rech design pc\\appdata\\roaming\\python\\python313\\site-packages (from langsmith<0.4,>=0.1.17->langchain) (0.23.0)\n",
      "Requirement already satisfied: annotated-types>=0.6.0 in c:\\users\\m-rech design pc\\appdata\\roaming\\python\\python313\\site-packages (from pydantic<3.0.0,>=2.7.4->langchain) (0.7.0)\n",
      "Requirement already satisfied: pydantic-core==2.33.1 in c:\\users\\m-rech design pc\\appdata\\roaming\\python\\python313\\site-packages (from pydantic<3.0.0,>=2.7.4->langchain) (2.33.1)\n",
      "Requirement already satisfied: typing-inspection>=0.4.0 in c:\\users\\m-rech design pc\\appdata\\roaming\\python\\python313\\site-packages (from pydantic<3.0.0,>=2.7.4->langchain) (0.4.0)\n",
      "Requirement already satisfied: charset-normalizer<4,>=2 in c:\\users\\m-rech design pc\\appdata\\local\\programs\\python\\python313\\lib\\site-packages (from requests<3,>=2->langchain) (3.4.1)\n",
      "Requirement already satisfied: idna<4,>=2.5 in c:\\users\\m-rech design pc\\appdata\\local\\programs\\python\\python313\\lib\\site-packages (from requests<3,>=2->langchain) (3.10)\n",
      "Requirement already satisfied: urllib3<3,>=1.21.1 in c:\\users\\m-rech design pc\\appdata\\local\\programs\\python\\python313\\lib\\site-packages (from requests<3,>=2->langchain) (2.3.0)\n",
      "Requirement already satisfied: certifi>=2017.4.17 in c:\\users\\m-rech design pc\\appdata\\local\\programs\\python\\python313\\lib\\site-packages (from requests<3,>=2->langchain) (2025.1.31)\n",
      "Requirement already satisfied: greenlet>=1 in c:\\users\\m-rech design pc\\appdata\\roaming\\python\\python313\\site-packages (from SQLAlchemy<3,>=1.4->langchain) (3.1.1)\n",
      "Requirement already satisfied: anyio in c:\\users\\m-rech design pc\\appdata\\roaming\\python\\python313\\site-packages (from httpx<1,>=0.23.0->langsmith<0.4,>=0.1.17->langchain) (4.9.0)\n",
      "Requirement already satisfied: httpcore==1.* in c:\\users\\m-rech design pc\\appdata\\roaming\\python\\python313\\site-packages (from httpx<1,>=0.23.0->langsmith<0.4,>=0.1.17->langchain) (1.0.8)\n",
      "Requirement already satisfied: h11<0.15,>=0.13 in c:\\users\\m-rech design pc\\appdata\\roaming\\python\\python313\\site-packages (from httpcore==1.*->httpx<1,>=0.23.0->langsmith<0.4,>=0.1.17->langchain) (0.14.0)\n",
      "Requirement already satisfied: jsonpointer>=1.9 in c:\\users\\m-rech design pc\\appdata\\roaming\\python\\python313\\site-packages (from jsonpatch<2.0,>=1.33->langchain-core<1.0.0,>=0.3.51->langchain) (3.0.0)\n",
      "Requirement already satisfied: sniffio>=1.1 in c:\\users\\m-rech design pc\\appdata\\roaming\\python\\python313\\site-packages (from anyio->httpx<1,>=0.23.0->langsmith<0.4,>=0.1.17->langchain) (1.3.1)\n",
      "Collecting langchain-ibm\n",
      "  Using cached langchain_ibm-0.3.5-py3-none-any.whl.metadata (5.2 kB)\n",
      "Collecting ibm-watsonx-ai<2.0.0,>=1.1.16 (from langchain-ibm)\n",
      "  Using cached ibm_watsonx_ai-1.1.16-py3-none-any.whl.metadata (6.6 kB)\n",
      "Requirement already satisfied: langchain-core<0.4,>=0.3.0 in c:\\users\\m-rech design pc\\appdata\\roaming\\python\\python313\\site-packages (from langchain-ibm) (0.3.51)\n",
      "Requirement already satisfied: requests in c:\\users\\m-rech design pc\\appdata\\local\\programs\\python\\python313\\lib\\site-packages (from ibm-watsonx-ai<2.0.0,>=1.1.16->langchain-ibm) (2.32.3)\n",
      "Requirement already satisfied: httpx in c:\\users\\m-rech design pc\\appdata\\roaming\\python\\python313\\site-packages (from ibm-watsonx-ai<2.0.0,>=1.1.16->langchain-ibm) (0.28.1)\n",
      "Requirement already satisfied: urllib3 in c:\\users\\m-rech design pc\\appdata\\local\\programs\\python\\python313\\lib\\site-packages (from ibm-watsonx-ai<2.0.0,>=1.1.16->langchain-ibm) (2.3.0)\n",
      "Collecting pandas<2.2.0,>=0.24.2 (from ibm-watsonx-ai<2.0.0,>=1.1.16->langchain-ibm)\n",
      "  Using cached pandas-2.1.4.tar.gz (4.3 MB)\n",
      "  Installing build dependencies: started\n",
      "  Installing build dependencies: finished with status 'error'\n"
     ]
    },
    {
     "name": "stderr",
     "output_type": "stream",
     "text": [
      "  error: subprocess-exited-with-error\n",
      "  \n",
      "  pip subprocess to install build dependencies did not run successfully.\n",
      "  exit code: 1\n",
      "  \n",
      "  [57 lines of output]\n",
      "  Ignoring oldest-supported-numpy: markers 'python_version < \"3.12\"' don't match your environment\n",
      "  Collecting meson-python==0.13.1\n",
      "    Using cached meson_python-0.13.1-py3-none-any.whl.metadata (4.1 kB)\n",
      "  Collecting meson==1.2.1\n",
      "    Using cached meson-1.2.1-py3-none-any.whl.metadata (1.7 kB)\n",
      "  Collecting wheel\n",
      "    Using cached wheel-0.45.1-py3-none-any.whl.metadata (2.3 kB)\n",
      "  Collecting Cython<3,>=0.29.33\n",
      "    Using cached Cython-0.29.37-py2.py3-none-any.whl.metadata (3.1 kB)\n",
      "  Collecting numpy<2,>=1.26.0\n",
      "    Using cached numpy-1.26.4.tar.gz (15.8 MB)\n",
      "    Installing build dependencies: started\n",
      "    Installing build dependencies: finished with status 'done'\n",
      "    Getting requirements to build wheel: started\n",
      "    Getting requirements to build wheel: finished with status 'done'\n",
      "    Installing backend dependencies: started\n",
      "    Installing backend dependencies: finished with status 'done'\n",
      "    Preparing metadata (pyproject.toml): started\n",
      "    Preparing metadata (pyproject.toml): finished with status 'error'\n",
      "    error: subprocess-exited-with-error\n",
      "  \n",
      "    Preparing metadata (pyproject.toml) did not run successfully.\n",
      "    exit code: 1\n",
      "  \n",
      "    [21 lines of output]\n",
      "    + C:\\Users\\M-RECH DESIGN PC\\AppData\\Local\\Programs\\Python\\Python313\\python.exe C:\\Users\\M-RECH DESIGN PC\\AppData\\Local\\Temp\\pip-install-lzzyguh1\\numpy_088c791db1044ebeaeb6c758665df73d\\vendored-meson\\meson\\meson.py setup C:\\Users\\M-RECH DESIGN PC\\AppData\\Local\\Temp\\pip-install-lzzyguh1\\numpy_088c791db1044ebeaeb6c758665df73d C:\\Users\\M-RECH DESIGN PC\\AppData\\Local\\Temp\\pip-install-lzzyguh1\\numpy_088c791db1044ebeaeb6c758665df73d\\.mesonpy-9q1vb3ab -Dbuildtype=release -Db_ndebug=if-release -Db_vscrt=md --native-file=C:\\Users\\M-RECH DESIGN PC\\AppData\\Local\\Temp\\pip-install-lzzyguh1\\numpy_088c791db1044ebeaeb6c758665df73d\\.mesonpy-9q1vb3ab\\meson-python-native-file.ini\n",
      "    The Meson build system\n",
      "    Version: 1.2.99\n",
      "    Source dir: C:\\Users\\M-RECH DESIGN PC\\AppData\\Local\\Temp\\pip-install-lzzyguh1\\numpy_088c791db1044ebeaeb6c758665df73d\n",
      "    Build dir: C:\\Users\\M-RECH DESIGN PC\\AppData\\Local\\Temp\\pip-install-lzzyguh1\\numpy_088c791db1044ebeaeb6c758665df73d\\.mesonpy-9q1vb3ab\n",
      "    Build type: native build\n",
      "    Project name: NumPy\n",
      "    Project version: 1.26.4\n",
      "    WARNING: Failed to activate VS environment: Could not parse vswhere.exe output\n",
      "  \n",
      "    ..\\meson.build:1:0: ERROR: Unknown compiler(s): [['icl'], ['cl'], ['cc'], ['gcc'], ['clang'], ['clang-cl'], ['pgcc']]\n",
      "    The following exception(s) were encountered:\n",
      "    Running `icl \"\"` gave \"[WinError 2] The system cannot find the file specified\"\n",
      "    Running `cl /?` gave \"[WinError 2] The system cannot find the file specified\"\n",
      "    Running `cc --version` gave \"[WinError 2] The system cannot find the file specified\"\n",
      "    Running `gcc --version` gave \"[WinError 2] The system cannot find the file specified\"\n",
      "    Running `clang --version` gave \"[WinError 2] The system cannot find the file specified\"\n",
      "    Running `clang-cl /?` gave \"[WinError 2] The system cannot find the file specified\"\n",
      "    Running `pgcc --version` gave \"[WinError 2] The system cannot find the file specified\"\n",
      "  \n",
      "    A full log can be found at C:\\Users\\M-RECH DESIGN PC\\AppData\\Local\\Temp\\pip-install-lzzyguh1\\numpy_088c791db1044ebeaeb6c758665df73d\\.mesonpy-9q1vb3ab\\meson-logs\\meson-log.txt\n",
      "    [end of output]\n",
      "  \n",
      "    note: This error originates from a subprocess, and is likely not a problem with pip.\n",
      "  error: metadata-generation-failed\n",
      "  \n",
      "  Encountered error while generating package metadata.\n",
      "  \n",
      "  See above for output.\n",
      "  \n",
      "  note: This is an issue with the package mentioned above, not pip.\n",
      "  hint: See above for details.\n",
      "  [end of output]\n",
      "  \n",
      "  note: This error originates from a subprocess, and is likely not a problem with pip.\n",
      "error: subprocess-exited-with-error\n",
      "\n",
      "pip subprocess to install build dependencies did not run successfully.\n",
      "exit code: 1\n",
      "\n",
      "See above for output.\n",
      "\n",
      "note: This error originates from a subprocess, and is likely not a problem with pip.\n"
     ]
    },
    {
     "name": "stdout",
     "output_type": "stream",
     "text": [
      "Requirement already satisfied: langchain-experimental in c:\\users\\m-rech design pc\\appdata\\roaming\\python\\python313\\site-packages (0.3.4)\n",
      "Requirement already satisfied: langchain-community<0.4.0,>=0.3.0 in c:\\users\\m-rech design pc\\appdata\\roaming\\python\\python313\\site-packages (from langchain-experimental) (0.3.21)\n",
      "Requirement already satisfied: langchain-core<0.4.0,>=0.3.28 in c:\\users\\m-rech design pc\\appdata\\roaming\\python\\python313\\site-packages (from langchain-experimental) (0.3.51)\n",
      "Requirement already satisfied: langchain<1.0.0,>=0.3.23 in c:\\users\\m-rech design pc\\appdata\\roaming\\python\\python313\\site-packages (from langchain-community<0.4.0,>=0.3.0->langchain-experimental) (0.3.23)\n",
      "Requirement already satisfied: SQLAlchemy<3,>=1.4 in c:\\users\\m-rech design pc\\appdata\\roaming\\python\\python313\\site-packages (from langchain-community<0.4.0,>=0.3.0->langchain-experimental) (2.0.40)\n",
      "Requirement already satisfied: requests<3,>=2 in c:\\users\\m-rech design pc\\appdata\\local\\programs\\python\\python313\\lib\\site-packages (from langchain-community<0.4.0,>=0.3.0->langchain-experimental) (2.32.3)\n",
      "Requirement already satisfied: PyYAML>=5.3 in c:\\users\\m-rech design pc\\appdata\\roaming\\python\\python313\\site-packages (from langchain-community<0.4.0,>=0.3.0->langchain-experimental) (6.0.2)\n",
      "Requirement already satisfied: aiohttp<4.0.0,>=3.8.3 in c:\\users\\m-rech design pc\\appdata\\roaming\\python\\python313\\site-packages (from langchain-community<0.4.0,>=0.3.0->langchain-experimental) (3.11.16)\n",
      "Requirement already satisfied: tenacity!=8.4.0,<10,>=8.1.0 in c:\\users\\m-rech design pc\\appdata\\roaming\\python\\python313\\site-packages (from langchain-community<0.4.0,>=0.3.0->langchain-experimental) (9.1.2)\n",
      "Requirement already satisfied: dataclasses-json<0.7,>=0.5.7 in c:\\users\\m-rech design pc\\appdata\\roaming\\python\\python313\\site-packages (from langchain-community<0.4.0,>=0.3.0->langchain-experimental) (0.6.7)\n",
      "Requirement already satisfied: pydantic-settings<3.0.0,>=2.4.0 in c:\\users\\m-rech design pc\\appdata\\roaming\\python\\python313\\site-packages (from langchain-community<0.4.0,>=0.3.0->langchain-experimental) (2.8.1)\n",
      "Requirement already satisfied: langsmith<0.4,>=0.1.125 in c:\\users\\m-rech design pc\\appdata\\roaming\\python\\python313\\site-packages (from langchain-community<0.4.0,>=0.3.0->langchain-experimental) (0.3.31)\n",
      "Requirement already satisfied: httpx-sse<1.0.0,>=0.4.0 in c:\\users\\m-rech design pc\\appdata\\roaming\\python\\python313\\site-packages (from langchain-community<0.4.0,>=0.3.0->langchain-experimental) (0.4.0)\n",
      "Requirement already satisfied: numpy<3,>=1.26.2 in c:\\users\\m-rech design pc\\appdata\\local\\programs\\python\\python313\\lib\\site-packages (from langchain-community<0.4.0,>=0.3.0->langchain-experimental) (2.1.3)\n",
      "Requirement already satisfied: jsonpatch<2.0,>=1.33 in c:\\users\\m-rech design pc\\appdata\\roaming\\python\\python313\\site-packages (from langchain-core<0.4.0,>=0.3.28->langchain-experimental) (1.33)\n",
      "Requirement already satisfied: packaging<25,>=23.2 in c:\\users\\m-rech design pc\\appdata\\local\\programs\\python\\python313\\lib\\site-packages (from langchain-core<0.4.0,>=0.3.28->langchain-experimental) (24.2)\n",
      "Requirement already satisfied: typing-extensions>=4.7 in c:\\users\\m-rech design pc\\appdata\\local\\programs\\python\\python313\\lib\\site-packages (from langchain-core<0.4.0,>=0.3.28->langchain-experimental) (4.13.0)\n",
      "Requirement already satisfied: pydantic<3.0.0,>=2.7.4 in c:\\users\\m-rech design pc\\appdata\\roaming\\python\\python313\\site-packages (from langchain-core<0.4.0,>=0.3.28->langchain-experimental) (2.11.3)\n",
      "Requirement already satisfied: aiohappyeyeballs>=2.3.0 in c:\\users\\m-rech design pc\\appdata\\roaming\\python\\python313\\site-packages (from aiohttp<4.0.0,>=3.8.3->langchain-community<0.4.0,>=0.3.0->langchain-experimental) (2.6.1)\n",
      "Requirement already satisfied: aiosignal>=1.1.2 in c:\\users\\m-rech design pc\\appdata\\roaming\\python\\python313\\site-packages (from aiohttp<4.0.0,>=3.8.3->langchain-community<0.4.0,>=0.3.0->langchain-experimental) (1.3.2)\n",
      "Requirement already satisfied: attrs>=17.3.0 in c:\\users\\m-rech design pc\\appdata\\roaming\\python\\python313\\site-packages (from aiohttp<4.0.0,>=3.8.3->langchain-community<0.4.0,>=0.3.0->langchain-experimental) (25.3.0)\n",
      "Requirement already satisfied: frozenlist>=1.1.1 in c:\\users\\m-rech design pc\\appdata\\roaming\\python\\python313\\site-packages (from aiohttp<4.0.0,>=3.8.3->langchain-community<0.4.0,>=0.3.0->langchain-experimental) (1.5.0)\n",
      "Requirement already satisfied: multidict<7.0,>=4.5 in c:\\users\\m-rech design pc\\appdata\\roaming\\python\\python313\\site-packages (from aiohttp<4.0.0,>=3.8.3->langchain-community<0.4.0,>=0.3.0->langchain-experimental) (6.4.3)\n",
      "Requirement already satisfied: propcache>=0.2.0 in c:\\users\\m-rech design pc\\appdata\\roaming\\python\\python313\\site-packages (from aiohttp<4.0.0,>=3.8.3->langchain-community<0.4.0,>=0.3.0->langchain-experimental) (0.3.1)\n",
      "Requirement already satisfied: yarl<2.0,>=1.17.0 in c:\\users\\m-rech design pc\\appdata\\roaming\\python\\python313\\site-packages (from aiohttp<4.0.0,>=3.8.3->langchain-community<0.4.0,>=0.3.0->langchain-experimental) (1.19.0)\n",
      "Requirement already satisfied: marshmallow<4.0.0,>=3.18.0 in c:\\users\\m-rech design pc\\appdata\\roaming\\python\\python313\\site-packages (from dataclasses-json<0.7,>=0.5.7->langchain-community<0.4.0,>=0.3.0->langchain-experimental) (3.26.1)\n",
      "Requirement already satisfied: typing-inspect<1,>=0.4.0 in c:\\users\\m-rech design pc\\appdata\\roaming\\python\\python313\\site-packages (from dataclasses-json<0.7,>=0.5.7->langchain-community<0.4.0,>=0.3.0->langchain-experimental) (0.9.0)\n",
      "Requirement already satisfied: jsonpointer>=1.9 in c:\\users\\m-rech design pc\\appdata\\roaming\\python\\python313\\site-packages (from jsonpatch<2.0,>=1.33->langchain-core<0.4.0,>=0.3.28->langchain-experimental) (3.0.0)\n",
      "Requirement already satisfied: langchain-text-splitters<1.0.0,>=0.3.8 in c:\\users\\m-rech design pc\\appdata\\roaming\\python\\python313\\site-packages (from langchain<1.0.0,>=0.3.23->langchain-community<0.4.0,>=0.3.0->langchain-experimental) (0.3.8)\n",
      "Requirement already satisfied: httpx<1,>=0.23.0 in c:\\users\\m-rech design pc\\appdata\\roaming\\python\\python313\\site-packages (from langsmith<0.4,>=0.1.125->langchain-community<0.4.0,>=0.3.0->langchain-experimental) (0.28.1)\n",
      "Requirement already satisfied: orjson<4.0.0,>=3.9.14 in c:\\users\\m-rech design pc\\appdata\\roaming\\python\\python313\\site-packages (from langsmith<0.4,>=0.1.125->langchain-community<0.4.0,>=0.3.0->langchain-experimental) (3.10.16)\n",
      "Requirement already satisfied: requests-toolbelt<2.0.0,>=1.0.0 in c:\\users\\m-rech design pc\\appdata\\roaming\\python\\python313\\site-packages (from langsmith<0.4,>=0.1.125->langchain-community<0.4.0,>=0.3.0->langchain-experimental) (1.0.0)\n",
      "Requirement already satisfied: zstandard<0.24.0,>=0.23.0 in c:\\users\\m-rech design pc\\appdata\\roaming\\python\\python313\\site-packages (from langsmith<0.4,>=0.1.125->langchain-community<0.4.0,>=0.3.0->langchain-experimental) (0.23.0)\n",
      "Requirement already satisfied: annotated-types>=0.6.0 in c:\\users\\m-rech design pc\\appdata\\roaming\\python\\python313\\site-packages (from pydantic<3.0.0,>=2.7.4->langchain-core<0.4.0,>=0.3.28->langchain-experimental) (0.7.0)\n",
      "Requirement already satisfied: pydantic-core==2.33.1 in c:\\users\\m-rech design pc\\appdata\\roaming\\python\\python313\\site-packages (from pydantic<3.0.0,>=2.7.4->langchain-core<0.4.0,>=0.3.28->langchain-experimental) (2.33.1)\n",
      "Requirement already satisfied: typing-inspection>=0.4.0 in c:\\users\\m-rech design pc\\appdata\\roaming\\python\\python313\\site-packages (from pydantic<3.0.0,>=2.7.4->langchain-core<0.4.0,>=0.3.28->langchain-experimental) (0.4.0)\n",
      "Requirement already satisfied: python-dotenv>=0.21.0 in c:\\users\\m-rech design pc\\appdata\\roaming\\python\\python313\\site-packages (from pydantic-settings<3.0.0,>=2.4.0->langchain-community<0.4.0,>=0.3.0->langchain-experimental) (1.1.0)\n",
      "Requirement already satisfied: charset-normalizer<4,>=2 in c:\\users\\m-rech design pc\\appdata\\local\\programs\\python\\python313\\lib\\site-packages (from requests<3,>=2->langchain-community<0.4.0,>=0.3.0->langchain-experimental) (3.4.1)\n",
      "Requirement already satisfied: idna<4,>=2.5 in c:\\users\\m-rech design pc\\appdata\\local\\programs\\python\\python313\\lib\\site-packages (from requests<3,>=2->langchain-community<0.4.0,>=0.3.0->langchain-experimental) (3.10)\n",
      "Requirement already satisfied: urllib3<3,>=1.21.1 in c:\\users\\m-rech design pc\\appdata\\local\\programs\\python\\python313\\lib\\site-packages (from requests<3,>=2->langchain-community<0.4.0,>=0.3.0->langchain-experimental) (2.3.0)\n",
      "Requirement already satisfied: certifi>=2017.4.17 in c:\\users\\m-rech design pc\\appdata\\local\\programs\\python\\python313\\lib\\site-packages (from requests<3,>=2->langchain-community<0.4.0,>=0.3.0->langchain-experimental) (2025.1.31)\n",
      "Requirement already satisfied: greenlet>=1 in c:\\users\\m-rech design pc\\appdata\\roaming\\python\\python313\\site-packages (from SQLAlchemy<3,>=1.4->langchain-community<0.4.0,>=0.3.0->langchain-experimental) (3.1.1)\n",
      "Requirement already satisfied: anyio in c:\\users\\m-rech design pc\\appdata\\roaming\\python\\python313\\site-packages (from httpx<1,>=0.23.0->langsmith<0.4,>=0.1.125->langchain-community<0.4.0,>=0.3.0->langchain-experimental) (4.9.0)\n",
      "Requirement already satisfied: httpcore==1.* in c:\\users\\m-rech design pc\\appdata\\roaming\\python\\python313\\site-packages (from httpx<1,>=0.23.0->langsmith<0.4,>=0.1.125->langchain-community<0.4.0,>=0.3.0->langchain-experimental) (1.0.8)\n",
      "Requirement already satisfied: h11<0.15,>=0.13 in c:\\users\\m-rech design pc\\appdata\\roaming\\python\\python313\\site-packages (from httpcore==1.*->httpx<1,>=0.23.0->langsmith<0.4,>=0.1.125->langchain-community<0.4.0,>=0.3.0->langchain-experimental) (0.14.0)\n",
      "Requirement already satisfied: mypy-extensions>=0.3.0 in c:\\users\\m-rech design pc\\appdata\\roaming\\python\\python313\\site-packages (from typing-inspect<1,>=0.4.0->dataclasses-json<0.7,>=0.5.7->langchain-community<0.4.0,>=0.3.0->langchain-experimental) (1.0.0)\n",
      "Requirement already satisfied: sniffio>=1.1 in c:\\users\\m-rech design pc\\appdata\\roaming\\python\\python313\\site-packages (from anyio->httpx<1,>=0.23.0->langsmith<0.4,>=0.1.125->langchain-community<0.4.0,>=0.3.0->langchain-experimental) (1.3.1)\n",
      "Requirement already satisfied: matplotlib in c:\\users\\m-rech design pc\\appdata\\local\\programs\\python\\python313\\lib\\site-packages (3.10.1)\n",
      "Requirement already satisfied: contourpy>=1.0.1 in c:\\users\\m-rech design pc\\appdata\\local\\programs\\python\\python313\\lib\\site-packages (from matplotlib) (1.3.1)\n",
      "Requirement already satisfied: cycler>=0.10 in c:\\users\\m-rech design pc\\appdata\\local\\programs\\python\\python313\\lib\\site-packages (from matplotlib) (0.12.1)\n",
      "Requirement already satisfied: fonttools>=4.22.0 in c:\\users\\m-rech design pc\\appdata\\local\\programs\\python\\python313\\lib\\site-packages (from matplotlib) (4.57.0)\n",
      "Requirement already satisfied: kiwisolver>=1.3.1 in c:\\users\\m-rech design pc\\appdata\\local\\programs\\python\\python313\\lib\\site-packages (from matplotlib) (1.4.8)\n",
      "Requirement already satisfied: numpy>=1.23 in c:\\users\\m-rech design pc\\appdata\\local\\programs\\python\\python313\\lib\\site-packages (from matplotlib) (2.1.3)\n",
      "Requirement already satisfied: packaging>=20.0 in c:\\users\\m-rech design pc\\appdata\\local\\programs\\python\\python313\\lib\\site-packages (from matplotlib) (24.2)\n",
      "Requirement already satisfied: pillow>=8 in c:\\users\\m-rech design pc\\appdata\\local\\programs\\python\\python313\\lib\\site-packages (from matplotlib) (11.2.1)\n",
      "Requirement already satisfied: pyparsing>=2.3.1 in c:\\users\\m-rech design pc\\appdata\\local\\programs\\python\\python313\\lib\\site-packages (from matplotlib) (3.2.3)\n",
      "Requirement already satisfied: python-dateutil>=2.7 in c:\\users\\m-rech design pc\\appdata\\local\\programs\\python\\python313\\lib\\site-packages (from matplotlib) (2.9.0.post0)\n",
      "Requirement already satisfied: six>=1.5 in c:\\users\\m-rech design pc\\appdata\\local\\programs\\python\\python313\\lib\\site-packages (from python-dateutil>=2.7->matplotlib) (1.17.0)\n",
      "Requirement already satisfied: seaborn in c:\\users\\m-rech design pc\\appdata\\local\\programs\\python\\python313\\lib\\site-packages (0.13.2)\n",
      "Requirement already satisfied: numpy!=1.24.0,>=1.20 in c:\\users\\m-rech design pc\\appdata\\local\\programs\\python\\python313\\lib\\site-packages (from seaborn) (2.1.3)\n",
      "Requirement already satisfied: pandas>=1.2 in c:\\users\\m-rech design pc\\appdata\\local\\programs\\python\\python313\\lib\\site-packages (from seaborn) (2.2.3)\n",
      "Requirement already satisfied: matplotlib!=3.6.1,>=3.4 in c:\\users\\m-rech design pc\\appdata\\local\\programs\\python\\python313\\lib\\site-packages (from seaborn) (3.10.1)\n",
      "Requirement already satisfied: contourpy>=1.0.1 in c:\\users\\m-rech design pc\\appdata\\local\\programs\\python\\python313\\lib\\site-packages (from matplotlib!=3.6.1,>=3.4->seaborn) (1.3.1)\n",
      "Requirement already satisfied: cycler>=0.10 in c:\\users\\m-rech design pc\\appdata\\local\\programs\\python\\python313\\lib\\site-packages (from matplotlib!=3.6.1,>=3.4->seaborn) (0.12.1)\n",
      "Requirement already satisfied: fonttools>=4.22.0 in c:\\users\\m-rech design pc\\appdata\\local\\programs\\python\\python313\\lib\\site-packages (from matplotlib!=3.6.1,>=3.4->seaborn) (4.57.0)\n",
      "Requirement already satisfied: kiwisolver>=1.3.1 in c:\\users\\m-rech design pc\\appdata\\local\\programs\\python\\python313\\lib\\site-packages (from matplotlib!=3.6.1,>=3.4->seaborn) (1.4.8)\n",
      "Requirement already satisfied: packaging>=20.0 in c:\\users\\m-rech design pc\\appdata\\local\\programs\\python\\python313\\lib\\site-packages (from matplotlib!=3.6.1,>=3.4->seaborn) (24.2)\n",
      "Requirement already satisfied: pillow>=8 in c:\\users\\m-rech design pc\\appdata\\local\\programs\\python\\python313\\lib\\site-packages (from matplotlib!=3.6.1,>=3.4->seaborn) (11.2.1)\n",
      "Requirement already satisfied: pyparsing>=2.3.1 in c:\\users\\m-rech design pc\\appdata\\local\\programs\\python\\python313\\lib\\site-packages (from matplotlib!=3.6.1,>=3.4->seaborn) (3.2.3)\n",
      "Requirement already satisfied: python-dateutil>=2.7 in c:\\users\\m-rech design pc\\appdata\\local\\programs\\python\\python313\\lib\\site-packages (from matplotlib!=3.6.1,>=3.4->seaborn) (2.9.0.post0)\n",
      "Requirement already satisfied: pytz>=2020.1 in c:\\users\\m-rech design pc\\appdata\\local\\programs\\python\\python313\\lib\\site-packages (from pandas>=1.2->seaborn) (2025.2)\n",
      "Requirement already satisfied: tzdata>=2022.7 in c:\\users\\m-rech design pc\\appdata\\local\\programs\\python\\python313\\lib\\site-packages (from pandas>=1.2->seaborn) (2025.2)\n",
      "Requirement already satisfied: six>=1.5 in c:\\users\\m-rech design pc\\appdata\\local\\programs\\python\\python313\\lib\\site-packages (from python-dateutil>=2.7->matplotlib!=3.6.1,>=3.4->seaborn) (1.17.0)\n",
      "Requirement already satisfied: langchain in c:\\users\\m-rech design pc\\appdata\\roaming\\python\\python313\\site-packages (0.3.23)\n",
      "Requirement already satisfied: langchain-core<1.0.0,>=0.3.51 in c:\\users\\m-rech design pc\\appdata\\roaming\\python\\python313\\site-packages (from langchain) (0.3.51)\n",
      "Requirement already satisfied: langchain-text-splitters<1.0.0,>=0.3.8 in c:\\users\\m-rech design pc\\appdata\\roaming\\python\\python313\\site-packages (from langchain) (0.3.8)\n",
      "Requirement already satisfied: langsmith<0.4,>=0.1.17 in c:\\users\\m-rech design pc\\appdata\\roaming\\python\\python313\\site-packages (from langchain) (0.3.31)\n",
      "Requirement already satisfied: pydantic<3.0.0,>=2.7.4 in c:\\users\\m-rech design pc\\appdata\\roaming\\python\\python313\\site-packages (from langchain) (2.11.3)\n",
      "Requirement already satisfied: SQLAlchemy<3,>=1.4 in c:\\users\\m-rech design pc\\appdata\\roaming\\python\\python313\\site-packages (from langchain) (2.0.40)\n",
      "Requirement already satisfied: requests<3,>=2 in c:\\users\\m-rech design pc\\appdata\\local\\programs\\python\\python313\\lib\\site-packages (from langchain) (2.32.3)\n",
      "Requirement already satisfied: PyYAML>=5.3 in c:\\users\\m-rech design pc\\appdata\\roaming\\python\\python313\\site-packages (from langchain) (6.0.2)\n",
      "Requirement already satisfied: tenacity!=8.4.0,<10.0.0,>=8.1.0 in c:\\users\\m-rech design pc\\appdata\\roaming\\python\\python313\\site-packages (from langchain-core<1.0.0,>=0.3.51->langchain) (9.1.2)\n",
      "Requirement already satisfied: jsonpatch<2.0,>=1.33 in c:\\users\\m-rech design pc\\appdata\\roaming\\python\\python313\\site-packages (from langchain-core<1.0.0,>=0.3.51->langchain) (1.33)\n",
      "Requirement already satisfied: packaging<25,>=23.2 in c:\\users\\m-rech design pc\\appdata\\local\\programs\\python\\python313\\lib\\site-packages (from langchain-core<1.0.0,>=0.3.51->langchain) (24.2)\n",
      "Requirement already satisfied: typing-extensions>=4.7 in c:\\users\\m-rech design pc\\appdata\\local\\programs\\python\\python313\\lib\\site-packages (from langchain-core<1.0.0,>=0.3.51->langchain) (4.13.0)\n",
      "Requirement already satisfied: httpx<1,>=0.23.0 in c:\\users\\m-rech design pc\\appdata\\roaming\\python\\python313\\site-packages (from langsmith<0.4,>=0.1.17->langchain) (0.28.1)\n",
      "Requirement already satisfied: orjson<4.0.0,>=3.9.14 in c:\\users\\m-rech design pc\\appdata\\roaming\\python\\python313\\site-packages (from langsmith<0.4,>=0.1.17->langchain) (3.10.16)\n",
      "Requirement already satisfied: requests-toolbelt<2.0.0,>=1.0.0 in c:\\users\\m-rech design pc\\appdata\\roaming\\python\\python313\\site-packages (from langsmith<0.4,>=0.1.17->langchain) (1.0.0)\n",
      "Requirement already satisfied: zstandard<0.24.0,>=0.23.0 in c:\\users\\m-rech design pc\\appdata\\roaming\\python\\python313\\site-packages (from langsmith<0.4,>=0.1.17->langchain) (0.23.0)\n",
      "Requirement already satisfied: annotated-types>=0.6.0 in c:\\users\\m-rech design pc\\appdata\\roaming\\python\\python313\\site-packages (from pydantic<3.0.0,>=2.7.4->langchain) (0.7.0)\n",
      "Requirement already satisfied: pydantic-core==2.33.1 in c:\\users\\m-rech design pc\\appdata\\roaming\\python\\python313\\site-packages (from pydantic<3.0.0,>=2.7.4->langchain) (2.33.1)\n",
      "Requirement already satisfied: typing-inspection>=0.4.0 in c:\\users\\m-rech design pc\\appdata\\roaming\\python\\python313\\site-packages (from pydantic<3.0.0,>=2.7.4->langchain) (0.4.0)\n",
      "Requirement already satisfied: charset-normalizer<4,>=2 in c:\\users\\m-rech design pc\\appdata\\local\\programs\\python\\python313\\lib\\site-packages (from requests<3,>=2->langchain) (3.4.1)\n",
      "Requirement already satisfied: idna<4,>=2.5 in c:\\users\\m-rech design pc\\appdata\\local\\programs\\python\\python313\\lib\\site-packages (from requests<3,>=2->langchain) (3.10)\n",
      "Requirement already satisfied: urllib3<3,>=1.21.1 in c:\\users\\m-rech design pc\\appdata\\local\\programs\\python\\python313\\lib\\site-packages (from requests<3,>=2->langchain) (2.3.0)\n",
      "Requirement already satisfied: certifi>=2017.4.17 in c:\\users\\m-rech design pc\\appdata\\local\\programs\\python\\python313\\lib\\site-packages (from requests<3,>=2->langchain) (2025.1.31)\n",
      "Requirement already satisfied: greenlet>=1 in c:\\users\\m-rech design pc\\appdata\\roaming\\python\\python313\\site-packages (from SQLAlchemy<3,>=1.4->langchain) (3.1.1)\n",
      "Requirement already satisfied: anyio in c:\\users\\m-rech design pc\\appdata\\roaming\\python\\python313\\site-packages (from httpx<1,>=0.23.0->langsmith<0.4,>=0.1.17->langchain) (4.9.0)\n",
      "Requirement already satisfied: httpcore==1.* in c:\\users\\m-rech design pc\\appdata\\roaming\\python\\python313\\site-packages (from httpx<1,>=0.23.0->langsmith<0.4,>=0.1.17->langchain) (1.0.8)\n",
      "Requirement already satisfied: h11<0.15,>=0.13 in c:\\users\\m-rech design pc\\appdata\\roaming\\python\\python313\\site-packages (from httpcore==1.*->httpx<1,>=0.23.0->langsmith<0.4,>=0.1.17->langchain) (0.14.0)\n",
      "Requirement already satisfied: jsonpointer>=1.9 in c:\\users\\m-rech design pc\\appdata\\roaming\\python\\python313\\site-packages (from jsonpatch<2.0,>=1.33->langchain-core<1.0.0,>=0.3.51->langchain) (3.0.0)\n",
      "Requirement already satisfied: sniffio>=1.1 in c:\\users\\m-rech design pc\\appdata\\roaming\\python\\python313\\site-packages (from anyio->httpx<1,>=0.23.0->langsmith<0.4,>=0.1.17->langchain) (1.3.1)\n"
     ]
    }
   ],
   "execution_count": 8
  },
  {
   "cell_type": "markdown",
   "metadata": {},
   "source": [
    "After you installat the libraries, restart your kernel. You can do that by clicking the **Restart the kernel** icon.\n",
    "\n",
    "<img src=\"https://cf-courses-data.s3.us.cloud-object-storage.appdomain.cloud/build-a-hotdog-not-hotdog-classifier-guided-project/images/Restarting_the_Kernel.png\" width=\"50%\" alt=\"Restart kernel\">\n"
   ]
  },
  {
   "cell_type": "markdown",
   "metadata": {},
   "source": [
    "### Importing required libraries\n",
    "\n",
    "_We recommend you import all required libraries in one place (here):_\n"
   ]
  },
  {
   "cell_type": "code",
   "metadata": {
    "ExecuteTime": {
     "end_time": "2025-04-15T15:12:58.386508Z",
     "start_time": "2025-04-15T15:12:58.321277Z"
    }
   },
   "source": [
    "# We use this section to suppress warnings generated by your code:\n",
    "def warn(*args, **kwargs):\n",
    "    pass\n",
    "import warnings\n",
    "warnings.warn = warn\n",
    "warnings.filterwarnings('ignore')\n",
    "\n",
    "# from langchain.llms import OpenAI\n",
    "# from langchain.prompts import PromptTemplate\n",
    "# from langchain.chains import LLMChain\n",
    "from ibm_watsonx_ai.foundation_models import Model\n",
    "from ibm_watsonx_ai.metanames import GenTextParamsMetaNames as GenParams\n",
    "from ibm_watson_machine_learning.foundation_models.extensions.langchain import WatsonxLLM\n",
    "\n",
    "from langchain_experimental.agents.agent_toolkits import create_pandas_dataframe_agent\n",
    "\n",
    "import matplotlib.pyplot as plt\n",
    "import pandas as pd"
   ],
   "outputs": [
    {
     "ename": "ModuleNotFoundError",
     "evalue": "No module named 'ibm_watsonx_ai'",
     "output_type": "error",
     "traceback": [
      "\u001B[1;31m---------------------------------------------------------------------------\u001B[0m",
      "\u001B[1;31mModuleNotFoundError\u001B[0m                       Traceback (most recent call last)",
      "Cell \u001B[1;32mIn[7], line 11\u001B[0m\n\u001B[0;32m      6\u001B[0m warnings\u001B[38;5;241m.\u001B[39mfilterwarnings(\u001B[38;5;124m'\u001B[39m\u001B[38;5;124mignore\u001B[39m\u001B[38;5;124m'\u001B[39m)\n\u001B[0;32m      8\u001B[0m \u001B[38;5;66;03m# from langchain.llms import OpenAI\u001B[39;00m\n\u001B[0;32m      9\u001B[0m \u001B[38;5;66;03m# from langchain.prompts import PromptTemplate\u001B[39;00m\n\u001B[0;32m     10\u001B[0m \u001B[38;5;66;03m# from langchain.chains import LLMChain\u001B[39;00m\n\u001B[1;32m---> 11\u001B[0m \u001B[38;5;28;01mfrom\u001B[39;00m \u001B[38;5;21;01mibm_watsonx_ai\u001B[39;00m\u001B[38;5;21;01m.\u001B[39;00m\u001B[38;5;21;01mfoundation_models\u001B[39;00m \u001B[38;5;28;01mimport\u001B[39;00m Model\n\u001B[0;32m     12\u001B[0m \u001B[38;5;28;01mfrom\u001B[39;00m \u001B[38;5;21;01mibm_watsonx_ai\u001B[39;00m\u001B[38;5;21;01m.\u001B[39;00m\u001B[38;5;21;01mmetanames\u001B[39;00m \u001B[38;5;28;01mimport\u001B[39;00m GenTextParamsMetaNames \u001B[38;5;28;01mas\u001B[39;00m GenParams\n\u001B[0;32m     13\u001B[0m \u001B[38;5;28;01mfrom\u001B[39;00m \u001B[38;5;21;01mibm_watson_machine_learning\u001B[39;00m\u001B[38;5;21;01m.\u001B[39;00m\u001B[38;5;21;01mfoundation_models\u001B[39;00m\u001B[38;5;21;01m.\u001B[39;00m\u001B[38;5;21;01mextensions\u001B[39;00m\u001B[38;5;21;01m.\u001B[39;00m\u001B[38;5;21;01mlangchain\u001B[39;00m \u001B[38;5;28;01mimport\u001B[39;00m WatsonxLLM\n",
      "\u001B[1;31mModuleNotFoundError\u001B[0m: No module named 'ibm_watsonx_ai'"
     ]
    }
   ],
   "execution_count": 7
  },
  {
   "cell_type": "markdown",
   "metadata": {},
   "source": [
    "## Data set\n"
   ]
  },
  {
   "cell_type": "markdown",
   "metadata": {},
   "source": [
    "In this lab, you will work on the Student Alcohol Consumption data set `student-mat.csv` by UCI Machine Learning as an example. For more information, see [Kaggle](https://www.kaggle.com/datasets/uciml/student-alcohol-consumption). It is based on data collected from two secondary schools in Portugal. The students included in the survey were in mathematics and Portuguese courses.\n"
   ]
  },
  {
   "cell_type": "markdown",
   "metadata": {},
   "source": [
    "The data set we are using is for the mathematics course. The number of mathematics students involved in the collection was 395. The data collected in locations such as Gabriel Pereira and Mousinho da Silveira includes several pertinence values. Examples of such data are records of demographic information, grades, and alcohol consumption.\n"
   ]
  },
  {
   "cell_type": "markdown",
   "metadata": {},
   "source": [
    "| Field     | Description                                                                 |\n",
    "|-----------|-----------------------------------------------------------------------------|\n",
    "| school    | GP/MS for the student's school                                              |\n",
    "| sex       | M/F for gender                                                              |\n",
    "| age       | 15-22 for the student's age                                                 |\n",
    "| address   | U/R for urban or rural, respectively                                        |\n",
    "| famsize   | LE3/GT3 for less than or greater than three family members                  |\n",
    "| Pstatus   | T/A for living together or apart from parents, respectively                 |\n",
    "| Medu      | 0 (none) / 1 (primary-4th grade) / 2 (5th - 9th grade) / 3 (secondary) / 4 (higher) for mother's education |\n",
    "| Fedu      | 0 (none) / 1 (primary-4th grade) / 2 (5th - 9th grade) / 3 (secondary) / 4 (higher) for father's education |\n",
    "| Mjob      | 'teacher,' 'health' care related, civil 'services,' 'at_home' or 'other' for the student's mother's job |\n",
    "| Fjob      | 'teacher,' 'health' care related, civil 'services,' 'at_home' or 'other' for the student's father's job |\n",
    "| reason    | reason to choose this school (nominal: close to 'home', school 'reputation', 'course' preference or 'other') |\n",
    "| guardian  | mother/father/other as the student's guardian                               |\n",
    "| traveltime| 1 (<15mins) / 2 (15 - 30 mins) / 3 (30 mins - 1 hr) / 4 (>1hr) for a time from home to school |\n",
    "| studytime | 1 (<2hrs) / 2 (2 - 5hrs) / 3 (5 - 10hrs) / 4 (>10hrs) for weekly study time |\n",
    "| failures  | 1-3/4 for the number of class failures (if more than three, then record 4)  |\n",
    "| schoolsup | yes/no for extra educational support                                        |\n",
    "| famsup    | yes/no for family educational support                                       |\n",
    "| paid      | yes/no for extra paid classes for Math or Portuguese                        |\n",
    "| activities| yes/no for extra-curricular activities                                      |\n",
    "| nursery   | yes/no for whether attended nursery school                                  |\n",
    "| higher    | yes/no for the desire to continue studies                                   |\n",
    "| internet  | yes/no for internet access at home                                          |\n",
    "| romantic  | yes/no for relationship status                                              |\n",
    "| famrel    | 1-5 scale on quality of family relationships                                |\n",
    "| freetime  | 1-5 scale on how much free time after school             |\n",
    "| goout     | 1-5 scale on how much student goes out with friends      |\n",
    "| Dalc      | 1-5 scale on how much alcohol consumed on weekdays       |\n",
    "| Walc      | 1-5 scale on how much alcohol consumed on the weekend    |\n",
    "| health    | 1-5 scale on health condition                            |\n",
    "| absences  | 0-93 number of absences from school                      |\n",
    "| G1        | 0-20 for the first-period grade                          |\n",
    "| G2        | 0-20 for the second-period grade                         |\n",
    "| G3        | 0-20 for the final grade                                 |\n"
   ]
  },
  {
   "cell_type": "markdown",
   "metadata": {},
   "source": [
    "### Load the data set\n"
   ]
  },
  {
   "cell_type": "markdown",
   "metadata": {},
   "source": [
    "Execute the code in the following cell to load your dataset. This code reads the CSV file into a pandas DataFrame, making the data accessible for processing in Python.\n"
   ]
  },
  {
   "cell_type": "code",
   "execution_count": 4,
   "metadata": {},
   "outputs": [
    {
     "ename": "NameError",
     "evalue": "name 'pd' is not defined",
     "output_type": "error",
     "traceback": [
      "\u001B[0;31m---------------------------------------------------------------------------\u001B[0m",
      "\u001B[0;31mNameError\u001B[0m                                 Traceback (most recent call last)",
      "Cell \u001B[0;32mIn[4], line 1\u001B[0m\n\u001B[0;32m----> 1\u001B[0m df \u001B[38;5;241m=\u001B[39m \u001B[43mpd\u001B[49m\u001B[38;5;241m.\u001B[39mread_csv(\n\u001B[1;32m      2\u001B[0m     \u001B[38;5;124m\"\u001B[39m\u001B[38;5;124mhttps://cf-courses-data.s3.us.cloud-object-storage.appdomain.cloud/ZNoKMJ9rssJn-QbJ49kOzA/student-mat.csv\u001B[39m\u001B[38;5;124m\"\u001B[39m\n\u001B[1;32m      3\u001B[0m )\n",
      "\u001B[0;31mNameError\u001B[0m: name 'pd' is not defined"
     ]
    }
   ],
   "source": [
    "df = pd.read_csv(\n",
    "    \"https://cf-courses-data.s3.us.cloud-object-storage.appdomain.cloud/ZNoKMJ9rssJn-QbJ49kOzA/student-mat.csv\"\n",
    ")"
   ]
  },
  {
   "cell_type": "markdown",
   "metadata": {},
   "source": [
    "Let's examine the first five rows of the dataset to get a glimpse of the data structure and its contents.\n"
   ]
  },
  {
   "cell_type": "code",
   "execution_count": null,
   "metadata": {},
   "outputs": [],
   "source": [
    "df.head(5)"
   ]
  },
  {
   "cell_type": "markdown",
   "metadata": {},
   "source": [
    "We can also review the detailed information for each column in the dataset, focusing on the presence of null values and the specific data types of each column.\n"
   ]
  },
  {
   "cell_type": "code",
   "execution_count": null,
   "metadata": {},
   "outputs": [],
   "source": [
    "df.info()"
   ]
  },
  {
   "cell_type": "markdown",
   "metadata": {},
   "source": [
    "## Load LLM\n"
   ]
  },
  {
   "cell_type": "markdown",
   "metadata": {},
   "source": [
    "Execute the code in the cell below to load the llama-3-3-70b LLM model from watsonx.ai. \n",
    "\n",
    "Additionally, we will configure the LLM to interact with data by integrating it with Langchain's `create_pandas_dataframe_agent`.\n"
   ]
  },
  {
   "cell_type": "code",
   "execution_count": null,
   "metadata": {},
   "outputs": [],
   "source": [
    "# Create a dictionary to store credential information\n",
    "credentials = {\n",
    "    \"url\"    : \"https://us-south.ml.cloud.ibm.com\"\n",
    "}\n",
    "\n",
    "# Indicate the model we would like to initialize. In this case, Llama 3 70B.\n",
    "model_id    = 'meta-llama/llama-3-3-70b-instruct'\n",
    "\n",
    "# Initialize some watsonx.ai model parameters\n",
    "params = {\n",
    "        GenParams.MAX_NEW_TOKENS: 256, # The maximum number of tokens that the model can generate in a single run.\n",
    "        GenParams.TEMPERATURE: 0,   # A parameter that controls the randomness of the token generation. A lower value makes the generation more deterministic, while a higher value introduces more randomness.\n",
    "    }\n",
    "project_id  = \"skills-network\" # <--- NOTE: specify \"skills-network\" as your project_id\n",
    "space_id    = None\n",
    "verify      = False\n",
    "\n",
    "# Launch a watsonx.ai model\n",
    "model = Model(\n",
    "    model_id=model_id, \n",
    "    credentials=credentials, \n",
    "    params=params, \n",
    "    project_id=project_id, \n",
    "    space_id=space_id, \n",
    "    verify=verify\n",
    ")\n",
    "\n",
    "# Integrate the watsonx.ai model with the langchain framework\n",
    "llm = WatsonxLLM(model = model)\n",
    "\n",
    "agent = create_pandas_dataframe_agent(\n",
    "    llm,\n",
    "    df,\n",
    "    verbose=False,\n",
    "    return_intermediate_steps=True  # set return_intermediate_steps=True so that model could return code that it comes up with to generate the chart\n",
    ")"
   ]
  },
  {
   "cell_type": "markdown",
   "metadata": {},
   "source": [
    "### Interact with your data\n"
   ]
  },
  {
   "cell_type": "markdown",
   "metadata": {},
   "source": [
    "Let's start with a simple interaction.\n",
    "\n",
    "Ask LLM how many rows of data are in the CSV file.\n"
   ]
  },
  {
   "cell_type": "code",
   "execution_count": null,
   "metadata": {},
   "outputs": [],
   "source": [
    "response = agent.invoke(\"how many rows of data are in this file?\")"
   ]
  },
  {
   "cell_type": "code",
   "execution_count": null,
   "metadata": {},
   "outputs": [],
   "source": [
    "response['output']"
   ]
  },
  {
   "cell_type": "markdown",
   "metadata": {},
   "source": [
    "From the output above, the model reports that there are 395 rows of data in the file.\n"
   ]
  },
  {
   "cell_type": "markdown",
   "metadata": {},
   "source": [
    "Let's verify this count using Python code to ensure accuracy.\n"
   ]
  },
  {
   "cell_type": "code",
   "execution_count": null,
   "metadata": {},
   "outputs": [],
   "source": [
    "len(df)"
   ]
  },
  {
   "cell_type": "markdown",
   "metadata": {},
   "source": [
    "The row count matches and is correct! \n"
   ]
  },
  {
   "cell_type": "markdown",
   "metadata": {},
   "source": [
    "Curious about the code the LLM generated and used to create this result?\n",
    "\n",
    "Run the code in the cell below to reveal the underlying commands.\n"
   ]
  },
  {
   "cell_type": "code",
   "execution_count": null,
   "metadata": {},
   "outputs": [],
   "source": [
    "response['intermediate_steps'][-1][0].tool_input.replace('; ', '\\n')"
   ]
  },
  {
   "cell_type": "markdown",
   "metadata": {},
   "source": [
    "Surprisingly, the LLM uses the same code as we do.\n"
   ]
  },
  {
   "cell_type": "markdown",
   "metadata": {},
   "source": [
    "Also, we could let LLM return some data that we are looking for based on the CSV file.\n"
   ]
  },
  {
   "cell_type": "code",
   "execution_count": null,
   "metadata": {},
   "outputs": [],
   "source": [
    "response = agent.invoke(\"Give me all the data where student's age is over 18 years old.\")"
   ]
  },
  {
   "cell_type": "code",
   "execution_count": null,
   "metadata": {},
   "outputs": [],
   "source": [
    "print(response)"
   ]
  },
  {
   "cell_type": "markdown",
   "metadata": {},
   "source": [
    "Let's get the code LLM used for charting this plot.\n"
   ]
  },
  {
   "cell_type": "code",
   "execution_count": null,
   "metadata": {},
   "outputs": [],
   "source": [
    "response['intermediate_steps'][-1][0].tool_input.replace('; ', '\\n')"
   ]
  },
  {
   "cell_type": "markdown",
   "metadata": {},
   "source": [
    "### Plot your data with natural language\n"
   ]
  },
  {
   "cell_type": "markdown",
   "metadata": {},
   "source": [
    "#### Task 1\n",
    "Generating a first visual on the data set to know the total number of male and female students in the data set.\n",
    "\n",
    "We just tell the agent that \"Plot the gender count with bars.\"\n"
   ]
  },
  {
   "cell_type": "code",
   "execution_count": null,
   "metadata": {},
   "outputs": [],
   "source": [
    "response = agent.invoke(\"Plot the gender count with bars.\")"
   ]
  },
  {
   "cell_type": "markdown",
   "metadata": {},
   "source": [
    "Let's see what code the LLM generated for ploting this chart.\n"
   ]
  },
  {
   "cell_type": "code",
   "execution_count": null,
   "metadata": {},
   "outputs": [],
   "source": [
    "print(response['intermediate_steps'][-1][0].tool_input.replace('; ', '\\n'))"
   ]
  },
  {
   "cell_type": "markdown",
   "metadata": {},
   "source": [
    "#### Task 2\n",
    "\n",
    "Generating a pie chart for displaying the average value of weekend alcohol for each gender in the data set.\n",
    "\n",
    "We will use the prompt \"Generate a pie chart to display average value of Walc for each gender.\"\n",
    "\n",
    "You may notice that the model generates two charts. The charts actually indicate the progressive improvement of the agent's code as it searches for the best way to answer to our prompt. It presents an improvement in the response to our query.\n"
   ]
  },
  {
   "cell_type": "code",
   "execution_count": null,
   "metadata": {},
   "outputs": [],
   "source": [
    "response = agent.invoke(\"Generate a pie chart to display average value of Walc for each Gender.\")"
   ]
  },
  {
   "cell_type": "markdown",
   "metadata": {},
   "source": [
    "Let's get the code LLM used for charting this plot.\n"
   ]
  },
  {
   "cell_type": "code",
   "execution_count": null,
   "metadata": {},
   "outputs": [],
   "source": [
    "print(response['intermediate_steps'][-1][0].tool_input.replace('; ', '\\n'))"
   ]
  },
  {
   "cell_type": "markdown",
   "metadata": {},
   "source": [
    "#### Task 3\n",
    "\n",
    "We can explore the impact of free time on grades based on the data.\n"
   ]
  },
  {
   "cell_type": "code",
   "execution_count": null,
   "metadata": {},
   "outputs": [],
   "source": [
    "response = agent.invoke(\"Create box plots to analyze the relationship between 'freetime' (amount of free time) and 'G3' (final grade) across different levels of free time.\")"
   ]
  },
  {
   "cell_type": "markdown",
   "metadata": {},
   "source": [
    "Execute the code below to retrieve the Python script the LLM used for plotting.\n"
   ]
  },
  {
   "cell_type": "code",
   "execution_count": null,
   "metadata": {},
   "outputs": [],
   "source": [
    "print(response['intermediate_steps'][-1][0].tool_input.replace('; ', '\\n'))"
   ]
  },
  {
   "cell_type": "markdown",
   "metadata": {},
   "source": [
    "#### Task 4\n",
    "\n",
    "We can explore the effect of alcohol consumption on academic performance.\n"
   ]
  },
  {
   "cell_type": "code",
   "execution_count": null,
   "metadata": {},
   "outputs": [],
   "source": [
    "response = agent.invoke(\"Generate scatter plots to examine the correlation between 'Dalc' (daily alcohol consumption) and 'G3', and between 'Walc' (weekend alcohol consumption) and 'G3'.\")"
   ]
  },
  {
   "cell_type": "markdown",
   "metadata": {},
   "source": [
    "Execute the code below to retrieve the Python script the LLM used for plotting.\n"
   ]
  },
  {
   "cell_type": "code",
   "execution_count": null,
   "metadata": {},
   "outputs": [],
   "source": [
    "print(response['intermediate_steps'][-1][0].tool_input.replace('; ', '\\n'))"
   ]
  },
  {
   "cell_type": "markdown",
   "metadata": {},
   "source": [
    "# Exercises\n"
   ]
  },
  {
   "cell_type": "markdown",
   "metadata": {},
   "source": [
    "### Exercise 1 - Relationship between parental education level and student grades\n"
   ]
  },
  {
   "cell_type": "code",
   "execution_count": null,
   "metadata": {},
   "outputs": [],
   "source": [
    "# your code here"
   ]
  },
  {
   "cell_type": "markdown",
   "metadata": {},
   "source": [
    "<details>\n",
    "    <summary>Click here for Solution</summary>\n",
    "\n",
    "```python\n",
    "\n",
    "response = agent.invoke(\"Plot scatter plots to show the relationship between 'Medu' (mother's education level) and 'G3' (final grade), and between 'Fedu' (father's education level) and 'G3'.\")\n",
    "\n",
    "```\n",
    "\n",
    "</details>\n"
   ]
  },
  {
   "cell_type": "markdown",
   "metadata": {},
   "source": [
    "### Exercise 2 - Impact of internet access at home on grades\n"
   ]
  },
  {
   "cell_type": "code",
   "execution_count": null,
   "metadata": {},
   "outputs": [],
   "source": [
    "# your code here"
   ]
  },
  {
   "cell_type": "markdown",
   "metadata": {},
   "source": [
    "<details>\n",
    "    <summary>Click here for a solution</summary>\n",
    "    \n",
    "```python\n",
    "\n",
    "response = agent.invoke(\"Use bar plots to compare the average final grades ('G3') of students with internet access at home versus those without ('internet' column).\")\n",
    "\n",
    "```\n",
    "\n",
    "</details>\n"
   ]
  },
  {
   "cell_type": "markdown",
   "metadata": {},
   "source": [
    "### Exercise 3 - Explore LLM's code\n"
   ]
  },
  {
   "cell_type": "markdown",
   "metadata": {},
   "source": [
    "Can you find what code the model used to generate the plot for exploring the relationship between absences and academic performance?\n",
    "\n",
    "You could run the corresponding code and from the response chain, you could see the code used from charting.\n"
   ]
  },
  {
   "cell_type": "code",
   "execution_count": null,
   "metadata": {},
   "outputs": [],
   "source": [
    "# your code here"
   ]
  },
  {
   "cell_type": "code",
   "execution_count": null,
   "metadata": {},
   "outputs": [],
   "source": [
    "response = agent.invoke(\"Plot a scatter plot showing the correlation between the number of absences ('absences') and final grades ('G3') of students.\")\n",
    "\n",
    "for i in range(len(response['intermediate_steps'])):\n",
    "    print(response['intermediate_steps'][i][0].tool_input.replace(';', '\\n'))"
   ]
  },
  {
   "cell_type": "markdown",
   "metadata": {},
   "source": [
    "<details>\n",
    "    <summary>Click here for a solution</summary>\n",
    "    \n",
    "```python\n",
    "\n",
    "response = agent.invoke(\"Plot a scatter plot showing the correlation between the number of absences ('absences') and final grades ('G3') of students.\")\n",
    "\n",
    "for i in range(len(response['intermediate_steps'])):\n",
    "    print(response['intermediate_steps'][i][0].tool_input.replace(';', '\\n'))\n",
    "\n",
    "```\n",
    "\n",
    "</details>\n"
   ]
  },
  {
   "cell_type": "markdown",
   "metadata": {},
   "source": [
    "## Authors\n"
   ]
  },
  {
   "cell_type": "markdown",
   "metadata": {},
   "source": [
    "[Kang Wang](https://author.skills.network/instructors/kang_wang)\n",
    "\n",
    "Kang Wang is a Data Scientist in IBM. He is also a PhD Candidate in the University of Waterloo.\n"
   ]
  },
  {
   "cell_type": "markdown",
   "metadata": {},
   "source": [
    "[Wojciech Fulmyk](https://author.skills.network/instructors/wojciech_fulmyk) <br>\n",
    "Wojciech \"Victor\" Fulmyk is a Data Scientist at IBM. He is also a PhD Candidate in Economics in the University of Calgary.\n"
   ]
  },
  {
   "cell_type": "markdown",
   "metadata": {},
   "source": [
    "## Other contributors\n"
   ]
  },
  {
   "cell_type": "markdown",
   "metadata": {},
   "source": [
    "[Ricky Shi](https://author.skills.network/instructors/ricky_shi) <br>\n",
    "Ricky Shi is a data scientist at the Ecosystems Skills Network at IBM.\n"
   ]
  },
  {
   "cell_type": "markdown",
   "metadata": {},
   "source": [
    "<!--## Change Log--!>\n"
   ]
  },
  {
   "cell_type": "markdown",
   "metadata": {},
   "source": [
    "<!--|Date (YYYY-MM-DD)|Version|Changed By|Change Description|\n",
    "|-|-|-|-|\n",
    "|2024-05-10|0.2|Kang Wang & Wojciech Fulmyk|Initial version created|\n",
    "|2024-02-23|0.1|Elio Di Nino|Update library documentation|--!>\n",
    "\n"
   ]
  },
  {
   "cell_type": "markdown",
   "metadata": {},
   "source": [
    "## Copyright © IBM Corporation. All rights reserved.\n"
   ]
  }
 ],
 "metadata": {
  "kernelspec": {
   "display_name": "Python 3 (ipykernel)",
   "language": "python",
   "name": "python3"
  },
  "language_info": {
   "codemirror_mode": {
    "name": "ipython",
    "version": 3
   },
   "file_extension": ".py",
   "mimetype": "text/x-python",
   "name": "python",
   "nbconvert_exporter": "python",
   "pygments_lexer": "ipython3",
   "version": "3.12.8"
  },
  "prev_pub_hash": "7c78142eb11b38d02ea638bf3a1f3f8271af81505586b7acd1372482e887ebe1"
 },
 "nbformat": 4,
 "nbformat_minor": 4
}
